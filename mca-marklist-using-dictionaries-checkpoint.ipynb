{
 "cells": [
  {
   "cell_type": "code",
   "execution_count": 2,
   "metadata": {},
   "outputs": [
    {
     "name": "stdout",
     "output_type": "stream",
     "text": [
      "      Banupriya  Dharani  Mathiazhagi  Prathiba  Tamizhselvi  Nishali  \\\n",
      "CC           90       85           95        80           95       90   \n",
      "BDA          95       90           90        95           80       85   \n",
      "SOA          85       80           85        90           90       80   \n",
      "HRM          80       90           90        85           85       90   \n",
      "STQA         90       95           80        90           90       95   \n",
      "\n",
      "      Krouthana  \n",
      "CC           90  \n",
      "BDA          95  \n",
      "SOA          85  \n",
      "HRM          80  \n",
      "STQA         90  \n"
     ]
    }
   ],
   "source": [
    "import pandas as pd\n",
    "Students = {'Boys': {'Sudharshan': {'CC': 90,\n",
    "                                   'BDA': 95,\n",
    "                                   'SOA': 85,\n",
    "                                   'HRM': 80,\n",
    "                                   'STQA': 90},\n",
    "                    'Venkatesh': {'CC': 85,\n",
    "                                 'BDA': 90,\n",
    "                                 'SOA': 80,\n",
    "                                 'HRM': 90,\n",
    "                                 'STQA': 95},\n",
    "                    'Dinesh': {'CC': 95,\n",
    "                              'BDA': 85,\n",
    "                              'SOA': 90,\n",
    "                              'HRM': 80,\n",
    "                              'STQA': 90},\n",
    "                    'Sai Kumar': {'CC': 95,\n",
    "                                 'BDA': 80,\n",
    "                                 'SOA': 90,\n",
    "                                 'HRM': 85,\n",
    "                                 'STQA': 90},\n",
    "                    'Selvaganapathy': {'CC': 90,\n",
    "                                      'BDA': 85,\n",
    "                                      'SOA': 95,\n",
    "                                       'HRM': 80,\n",
    "                                      'STQA': 90}},\n",
    "            'Girls': {'Banupriya': {'CC': 90,\n",
    "                                    'BDA': 95,\n",
    "                                    'SOA': 85,\n",
    "                                    'HRM': 80,\n",
    "                                    'STQA': 90},\n",
    "                      'Dharani': {'CC': 85,\n",
    "                                  'BDA': 90,\n",
    "                                  'SOA': 80,\n",
    "                                  'HRM': 90,\n",
    "                                  'STQA': 95},\n",
    "                      'Mathiazhagi': {'CC': 95,\n",
    "                                      'BDA': 90,\n",
    "                                      'SOA': 85,\n",
    "                                      'HRM': 90,\n",
    "                                      'STQA': 80},\n",
    "                      'Prathiba': {'CC': 80,\n",
    "                                   'BDA': 95,\n",
    "                                   'SOA': 90,\n",
    "                                   'HRM': 85,\n",
    "                                   'STQA': 90},\n",
    "                      'Tamizhselvi': {'CC': 95,\n",
    "                                      'BDA': 80,\n",
    "                                      'SOA': 90,\n",
    "                                      'HRM': 85,\n",
    "                                      'STQA': 90},\n",
    "                      'Nishali': {'CC': 90,\n",
    "                                  'BDA': 85,\n",
    "                                  'SOA': 80,\n",
    "                                  'HRM': 90,\n",
    "                                  'STQA': 95},\n",
    "                      'Krouthana': {'CC': 90,\n",
    "                                    'BDA': 95,\n",
    "                                    'SOA': 85,\n",
    "                                    'HRM': 80,\n",
    "                                    'STQA': 90}}\n",
    "           }\n",
    "df1 = pd.DataFrame(Students['Boys'] ['Sudharshan'], index=[1])\n",
    "df2 = pd.DataFrame(Students['Boys'] ['Dinesh'], index=[1])\n",
    "df3 = pd.DataFrame(Students['Girls'] ['Mathiazhagi'], index=[1])\n",
    "df4 = pd.DataFrame(Students['Girls'] ['Nishali'], index=[1])\n",
    "df = pd.DataFrame(Students['Boys'])\n",
    "dfg = pd.DataFrame(Students['Girls'])\n",
    "print(dfg)"
   ]
  },
  {
   "cell_type": "code",
   "execution_count": null,
   "metadata": {},
   "outputs": [],
   "source": []
  }
 ],
 "metadata": {
  "kernelspec": {
   "display_name": "Python 3",
   "language": "python",
   "name": "python3"
  },
  "language_info": {
   "codemirror_mode": {
    "name": "ipython",
    "version": 3
   },
   "file_extension": ".py",
   "mimetype": "text/x-python",
   "name": "python",
   "nbconvert_exporter": "python",
   "pygments_lexer": "ipython3",
   "version": "3.8.5"
  }
 },
 "nbformat": 4,
 "nbformat_minor": 4
}
